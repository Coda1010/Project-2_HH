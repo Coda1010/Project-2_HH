{
 "cells": [
  {
   "cell_type": "code",
   "execution_count": 1,
   "metadata": {},
   "outputs": [
    {
     "name": "stdout",
     "output_type": "stream",
     "text": [
      "Collecting psycopg2\n",
      "  Downloading psycopg2-2.9.9-cp311-cp311-win_amd64.whl (1.2 MB)\n",
      "                                              0.0/1.2 MB ? eta -:--:--\n",
      "     -                                        0.0/1.2 MB ? eta -:--:--\n",
      "     -                                        0.0/1.2 MB ? eta -:--:--\n",
      "     -                                        0.0/1.2 MB ? eta -:--:--\n",
      "     -                                        0.0/1.2 MB ? eta -:--:--\n",
      "     -                                        0.0/1.2 MB ? eta -:--:--\n",
      "     --                                       0.1/1.2 MB 255.1 kB/s eta 0:00:05\n",
      "     ---                                      0.1/1.2 MB 275.8 kB/s eta 0:00:04\n",
      "     ---                                      0.1/1.2 MB 275.8 kB/s eta 0:00:04\n",
      "     ---                                      0.1/1.2 MB 261.9 kB/s eta 0:00:05\n",
      "     ---                                      0.1/1.2 MB 261.9 kB/s eta 0:00:05\n",
      "     ---                                      0.1/1.2 MB 261.9 kB/s eta 0:00:05\n",
      "     ---                                      0.1/1.2 MB 261.9 kB/s eta 0:00:05\n",
      "     -----                                    0.2/1.2 MB 268.6 kB/s eta 0:00:04\n",
      "     ------                                   0.2/1.2 MB 259.0 kB/s eta 0:00:04\n",
      "     ------                                   0.2/1.2 MB 259.0 kB/s eta 0:00:04\n",
      "     ------                                   0.2/1.2 MB 259.0 kB/s eta 0:00:04\n",
      "     --------                                 0.2/1.2 MB 257.5 kB/s eta 0:00:04\n",
      "     -----------                              0.3/1.2 MB 349.3 kB/s eta 0:00:03\n",
      "     -----------                              0.3/1.2 MB 337.9 kB/s eta 0:00:03\n",
      "     -------------                            0.4/1.2 MB 361.9 kB/s eta 0:00:03\n",
      "     --------------                           0.4/1.2 MB 389.5 kB/s eta 0:00:02\n",
      "     ---------------                          0.5/1.2 MB 385.9 kB/s eta 0:00:02\n",
      "     -------------------                      0.6/1.2 MB 456.8 kB/s eta 0:00:02\n",
      "     -------------------                      0.6/1.2 MB 447.7 kB/s eta 0:00:02\n",
      "     ---------------------                    0.6/1.2 MB 471.6 kB/s eta 0:00:02\n",
      "     ----------------------                   0.6/1.2 MB 461.7 kB/s eta 0:00:02\n",
      "     -----------------------                  0.7/1.2 MB 458.1 kB/s eta 0:00:02\n",
      "     --------------------------               0.8/1.2 MB 508.9 kB/s eta 0:00:01\n",
      "     --------------------------               0.8/1.2 MB 508.9 kB/s eta 0:00:01\n",
      "     -----------------------------            0.9/1.2 MB 527.9 kB/s eta 0:00:01\n",
      "     --------------------------------         0.9/1.2 MB 557.3 kB/s eta 0:00:01\n",
      "     ----------------------------------       1.0/1.2 MB 577.2 kB/s eta 0:00:01\n",
      "     ------------------------------------     1.1/1.2 MB 598.0 kB/s eta 0:00:01\n",
      "     ---------------------------------------  1.2/1.2 MB 627.4 kB/s eta 0:00:01\n",
      "     ---------------------------------------- 1.2/1.2 MB 609.9 kB/s eta 0:00:00\n",
      "Installing collected packages: psycopg2\n",
      "Successfully installed psycopg2-2.9.9\n"
     ]
    },
    {
     "name": "stderr",
     "output_type": "stream",
     "text": [
      "\n",
      "[notice] A new release of pip is available: 23.1.2 -> 24.0\n",
      "[notice] To update, run: python.exe -m pip install --upgrade pip\n"
     ]
    }
   ],
   "source": [
    "!pip install psycopg2"
   ]
  },
  {
   "cell_type": "code",
   "execution_count": 4,
   "metadata": {},
   "outputs": [
    {
     "name": "stderr",
     "output_type": "stream",
     "text": [
      "C:\\Users\\Ирина\\AppData\\Local\\Temp\\ipykernel_13508\\3400417019.py:19: UserWarning: pandas only supports SQLAlchemy connectable (engine/connection) or database string URI or sqlite3 DBAPI2 connection. Other DBAPI2 objects are not tested. Please consider using SQLAlchemy.\n",
      "  df = pd.read_sql_query(query, connection)\n"
     ]
    }
   ],
   "source": [
    "import psycopg2\n",
    "import pandas as pd\n",
    "\n",
    "DBNAME = 'skillfactory'\n",
    "USER = 'skillfactory'\n",
    "PASSWORD = 'cCkxxLVrDE8EbvjueeMedPKt'\n",
    "HOST = '84.201.134.129'\n",
    "PORT = 5432\n",
    "\n",
    "connection = psycopg2.connect(\n",
    "   dbname=DBNAME,\n",
    "   user=USER,\n",
    "   host=HOST,\n",
    "   password=PASSWORD,\n",
    "   port=PORT\n",
    ")\n",
    "\n",
    "n = 10\n",
    "query = f'''select *\n",
    "           from sql.pokemon\n",
    "           limit {n}\n",
    "        '''\n",
    "        \n",
    "# используем метод read_sql_query, чтобы получить результаты запроса сразу в виде датафрейма\n",
    "df = pd.read_sql_query(query, connection)\n",
    "df\n",
    "\n",
    "connection.close()"
   ]
  },
  {
   "cell_type": "code",
   "execution_count": null,
   "metadata": {},
   "outputs": [],
   "source": []
  }
 ],
 "metadata": {
  "kernelspec": {
   "display_name": "Python 3",
   "language": "python",
   "name": "python3"
  },
  "language_info": {
   "codemirror_mode": {
    "name": "ipython",
    "version": 3
   },
   "file_extension": ".py",
   "mimetype": "text/x-python",
   "name": "python",
   "nbconvert_exporter": "python",
   "pygments_lexer": "ipython3",
   "version": "3.11.4"
  }
 },
 "nbformat": 4,
 "nbformat_minor": 2
}
